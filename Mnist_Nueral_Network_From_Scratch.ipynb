{
  "cells": [
    {
      "cell_type": "code",
      "execution_count": null,
      "metadata": {
        "id": "YCqhS5yjfePO"
      },
      "outputs": [],
      "source": [
        "import numpy as np\n",
        "import pandas as pd\n",
        "import matplotlib.pyplot as plt"
      ]
    },
    {
      "cell_type": "code",
      "execution_count": null,
      "metadata": {
        "colab": {
          "base_uri": "https://localhost:8080/",
          "height": 423
        },
        "id": "lfq2MmHv1Ui5",
        "outputId": "d0bef80e-62f2-453b-8ece-e925ad654d44"
      },
      "outputs": [
        {
          "data": {
            "text/html": [
              "<div>\n",
              "<style scoped>\n",
              "    .dataframe tbody tr th:only-of-type {\n",
              "        vertical-align: middle;\n",
              "    }\n",
              "\n",
              "    .dataframe tbody tr th {\n",
              "        vertical-align: top;\n",
              "    }\n",
              "\n",
              "    .dataframe thead th {\n",
              "        text-align: right;\n",
              "    }\n",
              "</style>\n",
              "<table border=\"1\" class=\"dataframe\">\n",
              "  <thead>\n",
              "    <tr style=\"text-align: right;\">\n",
              "      <th></th>\n",
              "      <th>label</th>\n",
              "      <th>1x1</th>\n",
              "      <th>1x2</th>\n",
              "      <th>1x3</th>\n",
              "      <th>1x4</th>\n",
              "      <th>1x5</th>\n",
              "      <th>1x6</th>\n",
              "      <th>1x7</th>\n",
              "      <th>1x8</th>\n",
              "      <th>1x9</th>\n",
              "      <th>...</th>\n",
              "      <th>28x19</th>\n",
              "      <th>28x20</th>\n",
              "      <th>28x21</th>\n",
              "      <th>28x22</th>\n",
              "      <th>28x23</th>\n",
              "      <th>28x24</th>\n",
              "      <th>28x25</th>\n",
              "      <th>28x26</th>\n",
              "      <th>28x27</th>\n",
              "      <th>28x28</th>\n",
              "    </tr>\n",
              "  </thead>\n",
              "  <tbody>\n",
              "    <tr>\n",
              "      <th>0</th>\n",
              "      <td>5</td>\n",
              "      <td>0</td>\n",
              "      <td>0</td>\n",
              "      <td>0</td>\n",
              "      <td>0</td>\n",
              "      <td>0</td>\n",
              "      <td>0</td>\n",
              "      <td>0</td>\n",
              "      <td>0</td>\n",
              "      <td>0</td>\n",
              "      <td>...</td>\n",
              "      <td>0</td>\n",
              "      <td>0</td>\n",
              "      <td>0</td>\n",
              "      <td>0</td>\n",
              "      <td>0</td>\n",
              "      <td>0</td>\n",
              "      <td>0</td>\n",
              "      <td>0</td>\n",
              "      <td>0</td>\n",
              "      <td>0</td>\n",
              "    </tr>\n",
              "    <tr>\n",
              "      <th>1</th>\n",
              "      <td>0</td>\n",
              "      <td>0</td>\n",
              "      <td>0</td>\n",
              "      <td>0</td>\n",
              "      <td>0</td>\n",
              "      <td>0</td>\n",
              "      <td>0</td>\n",
              "      <td>0</td>\n",
              "      <td>0</td>\n",
              "      <td>0</td>\n",
              "      <td>...</td>\n",
              "      <td>0</td>\n",
              "      <td>0</td>\n",
              "      <td>0</td>\n",
              "      <td>0</td>\n",
              "      <td>0</td>\n",
              "      <td>0</td>\n",
              "      <td>0</td>\n",
              "      <td>0</td>\n",
              "      <td>0</td>\n",
              "      <td>0</td>\n",
              "    </tr>\n",
              "    <tr>\n",
              "      <th>2</th>\n",
              "      <td>4</td>\n",
              "      <td>0</td>\n",
              "      <td>0</td>\n",
              "      <td>0</td>\n",
              "      <td>0</td>\n",
              "      <td>0</td>\n",
              "      <td>0</td>\n",
              "      <td>0</td>\n",
              "      <td>0</td>\n",
              "      <td>0</td>\n",
              "      <td>...</td>\n",
              "      <td>0</td>\n",
              "      <td>0</td>\n",
              "      <td>0</td>\n",
              "      <td>0</td>\n",
              "      <td>0</td>\n",
              "      <td>0</td>\n",
              "      <td>0</td>\n",
              "      <td>0</td>\n",
              "      <td>0</td>\n",
              "      <td>0</td>\n",
              "    </tr>\n",
              "    <tr>\n",
              "      <th>3</th>\n",
              "      <td>1</td>\n",
              "      <td>0</td>\n",
              "      <td>0</td>\n",
              "      <td>0</td>\n",
              "      <td>0</td>\n",
              "      <td>0</td>\n",
              "      <td>0</td>\n",
              "      <td>0</td>\n",
              "      <td>0</td>\n",
              "      <td>0</td>\n",
              "      <td>...</td>\n",
              "      <td>0</td>\n",
              "      <td>0</td>\n",
              "      <td>0</td>\n",
              "      <td>0</td>\n",
              "      <td>0</td>\n",
              "      <td>0</td>\n",
              "      <td>0</td>\n",
              "      <td>0</td>\n",
              "      <td>0</td>\n",
              "      <td>0</td>\n",
              "    </tr>\n",
              "    <tr>\n",
              "      <th>4</th>\n",
              "      <td>9</td>\n",
              "      <td>0</td>\n",
              "      <td>0</td>\n",
              "      <td>0</td>\n",
              "      <td>0</td>\n",
              "      <td>0</td>\n",
              "      <td>0</td>\n",
              "      <td>0</td>\n",
              "      <td>0</td>\n",
              "      <td>0</td>\n",
              "      <td>...</td>\n",
              "      <td>0</td>\n",
              "      <td>0</td>\n",
              "      <td>0</td>\n",
              "      <td>0</td>\n",
              "      <td>0</td>\n",
              "      <td>0</td>\n",
              "      <td>0</td>\n",
              "      <td>0</td>\n",
              "      <td>0</td>\n",
              "      <td>0</td>\n",
              "    </tr>\n",
              "    <tr>\n",
              "      <th>...</th>\n",
              "      <td>...</td>\n",
              "      <td>...</td>\n",
              "      <td>...</td>\n",
              "      <td>...</td>\n",
              "      <td>...</td>\n",
              "      <td>...</td>\n",
              "      <td>...</td>\n",
              "      <td>...</td>\n",
              "      <td>...</td>\n",
              "      <td>...</td>\n",
              "      <td>...</td>\n",
              "      <td>...</td>\n",
              "      <td>...</td>\n",
              "      <td>...</td>\n",
              "      <td>...</td>\n",
              "      <td>...</td>\n",
              "      <td>...</td>\n",
              "      <td>...</td>\n",
              "      <td>...</td>\n",
              "      <td>...</td>\n",
              "      <td>...</td>\n",
              "    </tr>\n",
              "    <tr>\n",
              "      <th>59995</th>\n",
              "      <td>8</td>\n",
              "      <td>0</td>\n",
              "      <td>0</td>\n",
              "      <td>0</td>\n",
              "      <td>0</td>\n",
              "      <td>0</td>\n",
              "      <td>0</td>\n",
              "      <td>0</td>\n",
              "      <td>0</td>\n",
              "      <td>0</td>\n",
              "      <td>...</td>\n",
              "      <td>0</td>\n",
              "      <td>0</td>\n",
              "      <td>0</td>\n",
              "      <td>0</td>\n",
              "      <td>0</td>\n",
              "      <td>0</td>\n",
              "      <td>0</td>\n",
              "      <td>0</td>\n",
              "      <td>0</td>\n",
              "      <td>0</td>\n",
              "    </tr>\n",
              "    <tr>\n",
              "      <th>59996</th>\n",
              "      <td>3</td>\n",
              "      <td>0</td>\n",
              "      <td>0</td>\n",
              "      <td>0</td>\n",
              "      <td>0</td>\n",
              "      <td>0</td>\n",
              "      <td>0</td>\n",
              "      <td>0</td>\n",
              "      <td>0</td>\n",
              "      <td>0</td>\n",
              "      <td>...</td>\n",
              "      <td>0</td>\n",
              "      <td>0</td>\n",
              "      <td>0</td>\n",
              "      <td>0</td>\n",
              "      <td>0</td>\n",
              "      <td>0</td>\n",
              "      <td>0</td>\n",
              "      <td>0</td>\n",
              "      <td>0</td>\n",
              "      <td>0</td>\n",
              "    </tr>\n",
              "    <tr>\n",
              "      <th>59997</th>\n",
              "      <td>5</td>\n",
              "      <td>0</td>\n",
              "      <td>0</td>\n",
              "      <td>0</td>\n",
              "      <td>0</td>\n",
              "      <td>0</td>\n",
              "      <td>0</td>\n",
              "      <td>0</td>\n",
              "      <td>0</td>\n",
              "      <td>0</td>\n",
              "      <td>...</td>\n",
              "      <td>0</td>\n",
              "      <td>0</td>\n",
              "      <td>0</td>\n",
              "      <td>0</td>\n",
              "      <td>0</td>\n",
              "      <td>0</td>\n",
              "      <td>0</td>\n",
              "      <td>0</td>\n",
              "      <td>0</td>\n",
              "      <td>0</td>\n",
              "    </tr>\n",
              "    <tr>\n",
              "      <th>59998</th>\n",
              "      <td>6</td>\n",
              "      <td>0</td>\n",
              "      <td>0</td>\n",
              "      <td>0</td>\n",
              "      <td>0</td>\n",
              "      <td>0</td>\n",
              "      <td>0</td>\n",
              "      <td>0</td>\n",
              "      <td>0</td>\n",
              "      <td>0</td>\n",
              "      <td>...</td>\n",
              "      <td>0</td>\n",
              "      <td>0</td>\n",
              "      <td>0</td>\n",
              "      <td>0</td>\n",
              "      <td>0</td>\n",
              "      <td>0</td>\n",
              "      <td>0</td>\n",
              "      <td>0</td>\n",
              "      <td>0</td>\n",
              "      <td>0</td>\n",
              "    </tr>\n",
              "    <tr>\n",
              "      <th>59999</th>\n",
              "      <td>8</td>\n",
              "      <td>0</td>\n",
              "      <td>0</td>\n",
              "      <td>0</td>\n",
              "      <td>0</td>\n",
              "      <td>0</td>\n",
              "      <td>0</td>\n",
              "      <td>0</td>\n",
              "      <td>0</td>\n",
              "      <td>0</td>\n",
              "      <td>...</td>\n",
              "      <td>0</td>\n",
              "      <td>0</td>\n",
              "      <td>0</td>\n",
              "      <td>0</td>\n",
              "      <td>0</td>\n",
              "      <td>0</td>\n",
              "      <td>0</td>\n",
              "      <td>0</td>\n",
              "      <td>0</td>\n",
              "      <td>0</td>\n",
              "    </tr>\n",
              "  </tbody>\n",
              "</table>\n",
              "<p>60000 rows × 785 columns</p>\n",
              "</div>"
            ],
            "text/plain": [
              "       label  1x1  1x2  1x3  1x4  1x5  1x6  1x7  1x8  1x9  ...  28x19  28x20  \\\n",
              "0          5    0    0    0    0    0    0    0    0    0  ...      0      0   \n",
              "1          0    0    0    0    0    0    0    0    0    0  ...      0      0   \n",
              "2          4    0    0    0    0    0    0    0    0    0  ...      0      0   \n",
              "3          1    0    0    0    0    0    0    0    0    0  ...      0      0   \n",
              "4          9    0    0    0    0    0    0    0    0    0  ...      0      0   \n",
              "...      ...  ...  ...  ...  ...  ...  ...  ...  ...  ...  ...    ...    ...   \n",
              "59995      8    0    0    0    0    0    0    0    0    0  ...      0      0   \n",
              "59996      3    0    0    0    0    0    0    0    0    0  ...      0      0   \n",
              "59997      5    0    0    0    0    0    0    0    0    0  ...      0      0   \n",
              "59998      6    0    0    0    0    0    0    0    0    0  ...      0      0   \n",
              "59999      8    0    0    0    0    0    0    0    0    0  ...      0      0   \n",
              "\n",
              "       28x21  28x22  28x23  28x24  28x25  28x26  28x27  28x28  \n",
              "0          0      0      0      0      0      0      0      0  \n",
              "1          0      0      0      0      0      0      0      0  \n",
              "2          0      0      0      0      0      0      0      0  \n",
              "3          0      0      0      0      0      0      0      0  \n",
              "4          0      0      0      0      0      0      0      0  \n",
              "...      ...    ...    ...    ...    ...    ...    ...    ...  \n",
              "59995      0      0      0      0      0      0      0      0  \n",
              "59996      0      0      0      0      0      0      0      0  \n",
              "59997      0      0      0      0      0      0      0      0  \n",
              "59998      0      0      0      0      0      0      0      0  \n",
              "59999      0      0      0      0      0      0      0      0  \n",
              "\n",
              "[60000 rows x 785 columns]"
            ]
          },
          "execution_count": 2,
          "metadata": {},
          "output_type": "execute_result"
        }
      ],
      "source": [
        "train = pd.read_csv('mnist_train.csv')\n",
        "test = pd.read_csv('mnist_test.csv')\n",
        "\n",
        "train"
      ]
    },
    {
      "cell_type": "code",
      "execution_count": null,
      "metadata": {
        "colab": {
          "base_uri": "https://localhost:8080/"
        },
        "id": "avd9Oam_1XaJ",
        "outputId": "47af4824-4c2c-47c1-d055-a72721b213c8"
      },
      "outputs": [
        {
          "data": {
            "text/plain": [
              "(784,)"
            ]
          },
          "execution_count": 3,
          "metadata": {},
          "output_type": "execute_result"
        }
      ],
      "source": [
        "X=train.iloc[:,1:].values\n",
        "X_test=test.iloc[:,1:].values\n",
        "y=train['label'].values\n",
        "y_test=test['label'].values\n",
        "X[6,:].shape"
      ]
    },
    {
      "cell_type": "code",
      "execution_count": null,
      "metadata": {
        "colab": {
          "base_uri": "https://localhost:8080/"
        },
        "id": "CtV27cOv1wfz",
        "outputId": "1d773f14-823e-4dce-97ca-8b000db513ad"
      },
      "outputs": [
        {
          "name": "stdout",
          "output_type": "stream",
          "text": [
            "The images size is ( 28 x 28 )\n"
          ]
        }
      ],
      "source": [
        "image_size_px = int(np.sqrt(X.shape[1]))\n",
        "print(\"The images size is (\",image_size_px,'x',image_size_px,')')\n",
        "def mnist_random_example():\n",
        "    idx = np.random.randint(4156)\n",
        "    exp = X[idx].reshape(image_size_px,image_size_px)\n",
        "    print(\"idx:\",idx,\" The number in the image below is:\", y[idx])\n",
        "    plt.imshow(exp)"
      ]
    },
    {
      "cell_type": "code",
      "execution_count": null,
      "metadata": {
        "colab": {
          "base_uri": "https://localhost:8080/",
          "height": 447
        },
        "id": "Zolczcgu1zQL",
        "outputId": "2addbf34-f46e-431a-b3b7-16dfe274484a"
      },
      "outputs": [
        {
          "name": "stdout",
          "output_type": "stream",
          "text": [
            "idx: 1452  The number in the image below is: 1\n"
          ]
        },
        {
          "data": {
            "image/png": "[encoded data removed]",
            "text/plain": [
              "<Figure size 640x480 with 1 Axes>"
            ]
          },
          "metadata": {},
          "output_type": "display_data"
        }
      ],
      "source": [
        "mnist_random_example()"
      ]
    },
    {
      "cell_type": "code",
      "execution_count": null,
      "metadata": {
        "id": "aQT-g6Av13uG"
      },
      "outputs": [],
      "source": [
        "def standerdize(data):\n",
        "    mean = np.mean(data, axis=1, keepdims=True)\n",
        "    std = np.std(data, axis=1, keepdims=True)\n",
        "    data_standerdized = (data - mean)/std\n",
        "    return data_standerdized"
      ]
    },
    {
      "cell_type": "code",
      "execution_count": null,
      "metadata": {
        "id": "uwyzSLxs19jq"
      },
      "outputs": [],
      "source": [
        "X_stand=standerdize(X)\n",
        "X_stand_test=standerdize(X_test)"
      ]
    },
    {
      "cell_type": "code",
      "execution_count": null,
      "metadata": {
        "colab": {
          "base_uri": "https://localhost:8080/"
        },
        "id": "M638Zds01_zc",
        "outputId": "7bef8669-cdf3-47e8-c878-5b6c0895feff"
      },
      "outputs": [
        {
          "data": {
            "text/plain": [
              "60000"
            ]
          },
          "execution_count": 8,
          "metadata": {},
          "output_type": "execute_result"
        }
      ],
      "source": [
        "X.shape[0]"
      ]
    },
    {
      "cell_type": "code",
      "execution_count": null,
      "metadata": {
        "id": "YMkl0sYh2Dj5"
      },
      "outputs": [],
      "source": [
        "def sigmoid(z):\n",
        "    return(1/(1+np.exp(-z)))"
      ]
    },
    {
      "cell_type": "code",
      "execution_count": null,
      "metadata": {
        "id": "ANF_rALDCxnX"
      },
      "outputs": [],
      "source": [
        "# Define derivative of activation function\n",
        "def sigmoid_prime(x):\n",
        "    return sigmoid(x) * (1 - sigmoid(x))"
      ]
    },
    {
      "cell_type": "code",
      "execution_count": null,
      "metadata": {
        "id": "s4l21UsH2JY6"
      },
      "outputs": [],
      "source": [
        "# Define mean squared error (MSE) loss function\n",
        "def mse_loss(y_pred, y_true):\n",
        "    return np.mean((y_pred - y_true)**2)"
      ]
    },
    {
      "cell_type": "code",
      "execution_count": null,
      "metadata": {
        "id": "GLeTPSnCBFt1"
      },
      "outputs": [],
      "source": [
        "# Define derivative of MSE loss function\n",
        "def mse_loss_prime(y_pred, y_true):\n",
        "    return 2 * (y_pred - y_true) / y_pred.shape[0]"
      ]
    },
    {
      "cell_type": "code",
      "execution_count": null,
      "metadata": {
        "id": "yfX2HbGa2bS5"
      },
      "outputs": [],
      "source": [
        "def accuracy(y_true, y_pred):\n",
        "        accuracy = np.sum(y_true == y_pred) / len(y_true)\n",
        "        return accuracy*100"
      ]
    },
    {
      "cell_type": "code",
      "execution_count": null,
      "metadata": {
        "id": "UXnFKun_2p--"
      },
      "outputs": [],
      "source": [
        "def one_hot(y):\n",
        "  sampels=y.shape[0]\n",
        "  label=set()\n",
        "\n",
        "  for i in range(sampels):\n",
        "    label.add(y[i])\n",
        "\n",
        "  classes=len(label)\n",
        "  new_y=np.zeros((sampels ,classes))\n",
        "  for i in range(sampels):\n",
        "    new_y[i,y[i]]=1\n",
        "  \n",
        "  return new_y,classes"
      ]
    },
    {
      "cell_type": "code",
      "execution_count": null,
      "metadata": {
        "id": "igAPD4b9daYN"
      },
      "outputs": [],
      "source": [
        "def soft_max(z):\n",
        "  n_sampels,n_classes=z.shape\n",
        "  new_z=np.zeros((n_sampels,n_classes))\n",
        "  for i in range(n_sampels):\n",
        "    sum=0\n",
        "    for j in range(n_classes):\n",
        "      sum+=np.exp(z[i,j])\n",
        "    for j in range(n_classes):\n",
        "      new_z[i,j]=np.exp(z[i,j])/sum\n",
        "\n",
        "  return new_z"
      ]
    },
    {
      "cell_type": "code",
      "execution_count": null,
      "metadata": {
        "id": "HML1bM5AU-3A"
      },
      "outputs": [],
      "source": [
        "def L_def(y_hat,y_hot):\n",
        "  \n",
        "  l=np.mean(y_hat-y_hot)\n",
        "  return l"
      ]
    },
    {
      "cell_type": "code",
      "execution_count": null,
      "metadata": {
        "id": "o_lkeet9VYxm"
      },
      "outputs": [],
      "source": [
        "def act_def(z):\n",
        "  \n",
        "  d=z*(1-z)\n",
        "  return d\n"
      ]
    },
    {
      "cell_type": "code",
      "execution_count": null,
      "metadata": {
        "id": "_U98BRWjUhga"
      },
      "outputs": [],
      "source": [
        "def mrg_classes_of_y (y_soft):\n",
        "  num_of_samples,num_classes = y_soft.shape\n",
        "  y_pred=np.zeros(num_of_samples)\n",
        "  for i in range(num_of_samples):\n",
        "    max_value = np.max(y_soft[i])\n",
        "    index = 0\n",
        "    for ii in range(num_classes):\n",
        "      if(max_value == y_soft[i][ii]):\n",
        "        index = ii\n",
        "    y_pred[i]= index\n",
        "  return y_pred"
      ]
    },
    {
      "cell_type": "code",
      "execution_count": null,
      "metadata": {
        "id": "dP7K9MsM_qi8"
      },
      "outputs": [],
      "source": [
        "class L:\n",
        "  def __init__(self, derc1, derc2):\n",
        "        \n",
        "        self.W = np.random.randn(derc1, derc2)\n",
        "        np.random.seed(0)\n",
        "\n",
        "        self.B = np.zeros((1, derc2))\n",
        "\n",
        "  def calculate_Z(self,X):\n",
        "    self.Z = np.dot(X, self.W) + self.B\n",
        "    self.A = sigmoid(self.Z)\n",
        "    return self.A\n",
        "\n",
        "\n",
        "\n",
        "  def update(self,dw,db,lr=0.001):\n",
        "    \n",
        "    self.W = self.W - lr * dw\n",
        "    self.B = self.B - lr * db"
      ]
    },
    {
      "cell_type": "code",
      "execution_count": null,
      "metadata": {
        "id": "DjftP_lY9s_U"
      },
      "outputs": [],
      "source": [
        "class NN :\n",
        "  def __init__(self,x, y ,num_of_layers, size_of_layer, epochs = 100 , learning_rate = 0.001):\n",
        "    self.num_of_layers = num_of_layers +1\n",
        "    self.input_size = x.shape[1]\n",
        "    self.hidden_size = size_of_layer\n",
        "\n",
        "    self.y_one_hot , self.num_of_classes= one_hot(y)\n",
        "    self.output_size = self.num_of_classes\n",
        "\n",
        "    self.layers = np.empty(self.num_of_layers, dtype=object)\n",
        "    \n",
        "\n",
        "    for i in range(self.num_of_layers):\n",
        "      if (i == 0):\n",
        "        self.layers[i] = L(self.input_size,self.hidden_size[i])\n",
        "      elif (i == self.num_of_layers-1):\n",
        "        self.layers[i] = L(self.hidden_size[i-1],self.output_size)\n",
        "      else:\n",
        "        self.layers[i] = L(self.hidden_size[i-1],self.hidden_size[i])\n",
        "\n",
        "    for epoch in range(epochs):\n",
        "\n",
        "      for i in range(self.num_of_layers):\n",
        "        if (i == 0):\n",
        "          A = self.layers[i].calculate_Z(x)\n",
        "        else:\n",
        "          A = self.layers[i].calculate_Z(A)\n",
        "\n",
        "      \n",
        "      if epoch != epochs-1:\n",
        "          for i in range(self.num_of_layers):\n",
        "            position = self.num_of_layers-1-i\n",
        "            if position == self.num_of_layers-1:\n",
        "\n",
        "              \n",
        "              sub_up =  mse_loss_prime(self.layers[position].A , self.y_one_hot)\n",
        "              dw= np.dot(np.transpose( self.layers[position-1].A ), sub_up)\n",
        "              db=np.sum(sub_up, axis=0)\n",
        "            \n",
        "              self.layers[position].update(dw,db,learning_rate)\n",
        "             \n",
        "            elif position == 0:\n",
        "              sub_up= np.dot(sub_up , np.transpose(self.layers[position+1].W)) * sigmoid_prime(self.layers[position].Z)\n",
        "              dw= np.dot(np.transpose(X), sub_up)\n",
        "              db = np.sum(sub_up, axis=0)\n",
        "\n",
        "              self.layers[position].update(dw,db,learning_rate)\n",
        "             \n",
        "            else:              \n",
        "              sub_up= np.dot( sub_up, np.transpose(self.layers[position+1].W) ) * sigmoid_prime(self.layers[position].Z)\n",
        "              dw = np.dot(np.transpose(self.layers[position-1].A), sub_up)\n",
        "              db = np.sum(sub_up, axis=0)\n",
        "\n",
        "              self.layers[position].update(dw,db,learning_rate)\n",
        "             \n",
        "\n",
        "  def test (self,x_test,y_test):\n",
        "    for i in range(self.num_of_layers):\n",
        "      if (i == 0):\n",
        "        A = self.layers[i].calculate_Z(x_test)\n",
        "        \n",
        "      else:\n",
        "        A = self.layers[i].calculate_Z(A)\n",
        "        \n",
        "    a = soft_max(A)\n",
        "    y_pred = mrg_classes_of_y(a)\n",
        "\n",
        "    print(\"y_pred\",y_pred)\n",
        "    print(\"y_test\",y_test)\n",
        "    print(accuracy(y_test,y_pred))"
      ]
    },
    {
      "cell_type": "code",
      "execution_count": null,
      "metadata": {
        "id": "pzkjw2EMaHur",
        "outputId": "b98c2a1b-9b93-405a-b81d-c018909ac3b3"
      },
      "outputs": [
        {
          "name": "stderr",
          "output_type": "stream",
          "text": [
            "C:\\Users\\mostafa\\AppData\\Local\\Temp\\ipykernel_17140\\4144518951.py:2: RuntimeWarning: overflow encountered in exp\n",
            "  return(1/(1+np.exp(-z)))\n"
          ]
        },
        {
          "name": "stdout",
          "output_type": "stream",
          "text": [
            "y_pred [7. 2. 1. ... 4. 8. 6.]\n",
            "y_test [7 2 1 ... 4 5 6]\n",
            "79.25999999999999\n"
          ]
        }
      ],
      "source": [
        "n= NN(X,y,2,[20,10],10000,0.1)\n",
        "n.test(X_test,y_test)"
      ]
    },
    {
      "cell_type": "code",
      "source": [
        "n= NN(X,y,2,[20,10],20000,0.1)\n",
        "n.test(X_test,y_test)"
      ],
      "metadata": {
        "colab": {
          "base_uri": "https://localhost:8080/"
        },
        "id": "0tS8DeRxH-IS",
        "outputId": "876d6e85-992c-43ea-c1c7-c4530c5c5688"
      },
      "execution_count": null,
      "outputs": [
        {
          "output_type": "stream",
          "name": "stdout",
          "text": [
            "<ipython-input-36-dbf66acad5bd>:2: RuntimeWarning: overflow encountered in exp\n",
            "  return(1/(1+np.exp(-z)))\n",
            "y_pred [7. 2. 1. ... 4. 4. 6.]\n",
            "y_test [7 2 1 ... 4 5 6]\n",
            "91.256145509\n"
          ]
        }
      ]
    },
    {
      "cell_type": "code",
      "execution_count": null,
      "metadata": {
        "colab": {
          "base_uri": "https://localhost:8080/"
        },
        "id": "ud6OEY-9_B_z",
        "outputId": "777da6de-51ce-435b-9de3-527afef9f2d5"
      },
      "outputs": [
        {
          "name": "stderr",
          "output_type": "stream",
          "text": [
            "C:\\Users\\mostafa\\AppData\\Local\\Temp\\ipykernel_17140\\4144518951.py:2: RuntimeWarning: overflow encountered in exp\n",
            "  return(1/(1+np.exp(-z)))\n"
          ]
        },
        {
          "name": "stdout",
          "output_type": "stream",
          "text": [
            "y_pred [7. 5. 1. ... 7. 5. 6.]\n",
            "y_test [7 2 1 ... 4 5 6]\n",
            "57.37\n"
          ]
        }
      ],
      "source": [
        "n= NN(X,y,3,[20,10,20],1000,0.1)\n",
        "n.test(X_test,y_test)"
      ]
    },
    {
      "cell_type": "code",
      "execution_count": null,
      "metadata": {
        "colab": {
          "base_uri": "https://localhost:8080/"
        },
        "id": "LYGEz-GoLy60",
        "outputId": "873ed2df-fa32-4d98-e155-342943e6ff22"
      },
      "outputs": [
        {
          "name": "stderr",
          "output_type": "stream",
          "text": [
            "C:\\Users\\mostafa\\AppData\\Local\\Temp\\ipykernel_17140\\4144518951.py:2: RuntimeWarning: overflow encountered in exp\n",
            "  return(1/(1+np.exp(-z)))\n"
          ]
        },
        {
          "name": "stdout",
          "output_type": "stream",
          "text": [
            "y_pred [7. 2. 1. ... 4. 4. 6.]\n",
            "y_test [7 2 1 ... 4 5 6]\n",
            "54.64\n"
          ]
        }
      ],
      "source": [
        "n= NN(X,y,3,[10,20,20],1000,0.1)\n",
        "n.test(X_test,y_test)"
      ]
    },
    {
      "cell_type": "code",
      "execution_count": null,
      "metadata": {
        "id": "JNzaMcMbaHus",
        "outputId": "0cf87841-4307-47ac-f0e0-71e463eafe94",
        "colab": {
          "base_uri": "https://localhost:8080/"
        }
      },
      "outputs": [
        {
          "output_type": "stream",
          "name": "stdout",
          "text": [
            "<ipython-input-36-dbf66acad5bd>:2: RuntimeWarning: overflow encountered in exp\n",
            "  return(1/(1+np.exp(-z)))\n",
            "y_pred [7. 2. 1. ... 4. 4. 6.]\n",
            "y_test [7 2 1 ... 4 5 6]\n",
            "54.64\n"
          ]
        }
      ],
      "source": [
        "n= NN(X,y,3,[10,20,10],1000,0.1)\n",
        "n.test(X_test,y_test)"
      ]
    },
    {
      "cell_type": "code",
      "execution_count": null,
      "metadata": {
        "id": "OhyV5faQaHus",
        "outputId": "e206ae3e-6260-4d19-e0c9-a579726beee2"
      },
      "outputs": [
        {
          "name": "stderr",
          "output_type": "stream",
          "text": [
            "C:\\Users\\mostafa\\AppData\\Local\\Temp\\ipykernel_23676\\4144518951.py:2: RuntimeWarning: overflow encountered in exp\n",
            "  return(1/(1+np.exp(-z)))\n"
          ]
        },
        {
          "name": "stdout",
          "output_type": "stream",
          "text": [
            "y_pred [7. 6. 1. ... 7. 7. 6.]\n",
            "y_test [7 2 1 ... 4 5 6]\n",
            "51.27\n"
          ]
        }
      ],
      "source": [
        "n= NN(X,y,3,[20,20,10],1000,0.1)\n",
        "n.test(X_test,y_test)"
      ]
    },
    {
      "cell_type": "code",
      "execution_count": null,
      "metadata": {
        "colab": {
          "base_uri": "https://localhost:8080/"
        },
        "id": "-A-urzcrNu7g",
        "outputId": "b79d7273-97ed-40ce-eaa3-8cb54618340a"
      },
      "outputs": [
        {
          "name": "stderr",
          "output_type": "stream",
          "text": [
            "C:\\Users\\mostafa\\AppData\\Local\\Temp\\ipykernel_23676\\4144518951.py:2: RuntimeWarning: overflow encountered in exp\n",
            "  return(1/(1+np.exp(-z)))\n"
          ]
        },
        {
          "name": "stdout",
          "output_type": "stream",
          "text": [
            "y_pred [7. 2. 1. ... 4. 2. 6.]\n",
            "y_test [7 2 1 ... 4 5 6]\n",
            "77.16\n"
          ]
        }
      ],
      "source": [
        "n= NN(X,y,2,[20,10],1000,1)\n",
        "n.test(X_test,y_test)"
      ]
    },
    {
      "cell_type": "code",
      "execution_count": null,
      "metadata": {
        "colab": {
          "base_uri": "https://localhost:8080/"
        },
        "id": "86XSc-dnInui",
        "outputId": "221fb62a-ce3b-4ef9-d293-edf0f1bdeb21"
      },
      "outputs": [
        {
          "name": "stderr",
          "output_type": "stream",
          "text": [
            "C:\\Users\\mostafa\\AppData\\Local\\Temp\\ipykernel_23676\\4144518951.py:2: RuntimeWarning: overflow encountered in exp\n",
            "  return(1/(1+np.exp(-z)))\n"
          ]
        },
        {
          "name": "stdout",
          "output_type": "stream",
          "text": [
            "y_pred [7. 6. 1. ... 9. 8. 6.]\n",
            "y_test [7 2 1 ... 4 5 6]\n",
            "58.709999999999994\n"
          ]
        }
      ],
      "source": [
        "n= NN(X,y,3,[10,20,10],1500,1)\n",
        "n.test(X_test,y_test)"
      ]
    },
    {
      "cell_type": "code",
      "execution_count": null,
      "metadata": {
        "colab": {
          "base_uri": "https://localhost:8080/"
        },
        "id": "OAwPCApnJW08",
        "outputId": "ce619ddb-2861-4bd0-fa2a-8cb93d8be2d1"
      },
      "outputs": [
        {
          "name": "stderr",
          "output_type": "stream",
          "text": [
            "C:\\Users\\mostafa\\AppData\\Local\\Temp\\ipykernel_23676\\4144518951.py:2: RuntimeWarning: overflow encountered in exp\n",
            "  return(1/(1+np.exp(-z)))\n"
          ]
        },
        {
          "name": "stdout",
          "output_type": "stream",
          "text": [
            "y_pred [1. 1. 1. ... 1. 1. 1.]\n",
            "y_test [7 2 1 ... 4 5 6]\n",
            "11.35\n"
          ]
        }
      ],
      "source": [
        "n= NN(X,y,7,[10,20,10,15,14,15,13],2000,0.1)\n",
        "n.test(X_test,y_test)"
      ]
    },
    {
      "cell_type": "code",
      "execution_count": null,
      "metadata": {
        "colab": {
          "base_uri": "https://localhost:8080/"
        },
        "id": "XRUvfi27WQ80",
        "outputId": "a8f696f9-5b3e-4e38-9320-62d8f29cd5d7"
      },
      "outputs": [
        {
          "name": "stderr",
          "output_type": "stream",
          "text": [
            "<ipython-input-10-dbf66acad5bd>:2: RuntimeWarning: overflow encountered in exp\n",
            "  return(1/(1+np.exp(-z)))\n"
          ]
        },
        {
          "name": "stdout",
          "output_type": "stream",
          "text": [
            "y_pred [4. 7. 7. ... 4. 7. 4.]\n",
            "y_test [7 2 1 ... 4 5 6]\n",
            "8.27\n"
          ]
        }
      ],
      "source": [
        "n= NN(X,y,5,[20,40,20,30,10],5,0.1)\n",
        "n.test(X_test,y_test)"
      ]
    },
    {
      "cell_type": "code",
      "execution_count": null,
      "metadata": {
        "colab": {
          "base_uri": "https://localhost:8080/"
        },
        "id": "OUrP_N8sWWJR",
        "outputId": "3611b0b2-e1ff-4bee-b383-9572773bc597"
      },
      "outputs": [
        {
          "name": "stderr",
          "output_type": "stream",
          "text": [
            "<ipython-input-10-dbf66acad5bd>:2: RuntimeWarning: overflow encountered in exp\n",
            "  return(1/(1+np.exp(-z)))\n"
          ]
        },
        {
          "name": "stdout",
          "output_type": "stream",
          "text": [
            "y_pred [1. 7. 3. ... 4. 4. 1.]\n",
            "y_test [7 2 1 ... 4 5 6]\n",
            "11.24\n"
          ]
        }
      ],
      "source": [
        "n= NN(X,y,5,[20,40,20,30,10],50,0.1)\n",
        "n.test(X_test,y_test)"
      ]
    },
    {
      "cell_type": "code",
      "execution_count": null,
      "metadata": {
        "colab": {
          "base_uri": "https://localhost:8080/"
        },
        "id": "fKgK6UJDWZno",
        "outputId": "a02e9804-acf5-4b36-b24d-dcc2e4cfb650"
      },
      "outputs": [
        {
          "name": "stderr",
          "output_type": "stream",
          "text": [
            "<ipython-input-10-dbf66acad5bd>:2: RuntimeWarning: overflow encountered in exp\n",
            "  return(1/(1+np.exp(-z)))\n"
          ]
        },
        {
          "name": "stdout",
          "output_type": "stream",
          "text": [
            "y_pred [1. 7. 3. ... 4. 9. 1.]\n",
            "y_test [7 2 1 ... 4 5 6]\n",
            "15.76\n"
          ]
        }
      ],
      "source": [
        "n= NN(X,y,5,[20,40,20,30,10],100,0.1)\n",
        "n.test(X_test,y_test)"
      ]
    },
    {
      "cell_type": "code",
      "execution_count": null,
      "metadata": {
        "colab": {
          "base_uri": "https://localhost:8080/"
        },
        "id": "3-SQr2PyWcrM",
        "outputId": "3ab5d1fb-7be9-47f8-e2b3-42a47b7659e9"
      },
      "outputs": [
        {
          "name": "stderr",
          "output_type": "stream",
          "text": [
            "<ipython-input-10-dbf66acad5bd>:2: RuntimeWarning: overflow encountered in exp\n",
            "  return(1/(1+np.exp(-z)))\n"
          ]
        },
        {
          "name": "stdout",
          "output_type": "stream",
          "text": [
            "y_pred [7. 0. 3. ... 4. 7. 7.]\n",
            "y_test [7 2 1 ... 4 5 6]\n",
            "20.979999999999997\n"
          ]
        }
      ],
      "source": [
        "n= NN(X,y,5,[20,40,20,30,10],200,0.1)\n",
        "n.test(X_test,y_test)"
      ]
    },
    {
      "cell_type": "code",
      "execution_count": 25,
      "metadata": {
        "colab": {
          "base_uri": "https://localhost:8080/"
        },
        "id": "JIagCKv-KkIc",
        "outputId": "4d7cbc7e-1638-4adb-ff80-b02e5de9083b"
      },
      "outputs": [
        {
          "output_type": "stream",
          "name": "stdout",
          "text": [
            "<ipython-input-36-dbf66acad5bd>:2: RuntimeWarning: overflow encountered in exp\n",
            "  return(1/(1+np.exp(-z)))\n",
            "y_pred [7. 3. 1. ... 4. 5. 6.]\n",
            "y_test [7 2 1 ... 4 5 6]\n",
            "61.927144593\n"
          ]
        }
      ],
      "source": [
        "n= NN(X,y,5,[20,40,20,30,10],2500,1)\n",
        "n.test(X_test,y_test)"
      ]
    },
    {
      "cell_type": "code",
      "execution_count": null,
      "metadata": {
        "colab": {
          "base_uri": "https://localhost:8080/"
        },
        "id": "WnetCxapWnzf",
        "outputId": "d0de5a75-9a40-4ee3-bd54-66b52fab8961"
      },
      "outputs": [
        {
          "name": "stdout",
          "output_type": "stream",
          "text": [
            "<ipython-input-36-dbf66acad5bd>:2: RuntimeWarning: overflow encountered in exp\n",
            "  return(1/(1+np.exp(-z)))\n",
            "y_pred [7. 3. 1. ... 4. 5. 6.]\n",
            "y_test [7 2 1 ... 4 5 6]\n",
            "72.566665899\n"
          ]
        }
      ],
      "source": [
        "n= NN(X,y,5,[20,40,20,30,10],3500,1)\n",
        "n.test(X_test,y_test)"
      ]
    },
    {
      "cell_type": "code",
      "execution_count": 24,
      "metadata": {
        "colab": {
          "base_uri": "https://localhost:8080/"
        },
        "id": "yH5X7O3ccKMB",
        "outputId": "2c7f8776-601b-4ea7-e920-245edcba142a"
      },
      "outputs": [
        {
          "output_type": "stream",
          "name": "stdout",
          "text": [
            "<ipython-input-36-dbf66acad5bd>:2: RuntimeWarning: overflow encountered in exp\n",
            "  return(1/(1+np.exp(-z)))\n",
            "y_pred [7. 3. 1. ... 4. 5. 6.]\n",
            "y_test [7 2 1 ... 4 5 6]\n",
            "27.0903755\n"
          ]
        }
      ],
      "source": [
        "n= NN(X,y,2,[10,10],500,0.1)\n",
        "n.test(X_test,y_test)"
      ]
    }
  ],
  "metadata": {
    "colab": {
      "provenance": []
    },
    "kernelspec": {
      "display_name": "Python 3",
      "name": "python3"
    },
    "language_info": {
      "codemirror_mode": {
        "name": "ipython",
        "version": 3
      },
      "file_extension": ".py",
      "mimetype": "text/x-python",
      "name": "python",
      "nbconvert_exporter": "python",
      "pygments_lexer": "ipython3",
      "version": "3.11.2"
    }
  },
  "nbformat": 4,
  "nbformat_minor": 0
}